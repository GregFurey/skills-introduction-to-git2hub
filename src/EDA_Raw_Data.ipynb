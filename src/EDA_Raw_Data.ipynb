{
  "cells": [
    {
      "cell_type": "code",
      "execution_count": null,
      "id": "99e83554-d680-4fd8-8735-cd940a27f969",
      "metadata": {
        "id": "99e83554-d680-4fd8-8735-cd940a27f969"
      },
      "outputs": [],
      "source": [
        "import pandas as pd\n",
        "import zipfile\n",
        "from pathlib import Path\n",
        "\n",
        "pd.set_option('display.width', 1000)\n",
        "\n",
        "### update path of where you have saved the repo locally\n",
        "base_dir = Path(r'C:\\Users\\Jana\\OneDrive\\Documents\\ZZSC9020_Project\\Group-F-Forecasting-Electricity-Demand-in-Australia-\\data\\NSW') ## update path\n",
        "\n",
        "# Combine the two parts of forecastdemand_nsw into one zip file\n",
        "parts = [base_dir / 'forecastdemand_nsw.csv.zip.partaa', base_dir / 'forecastdemand_nsw.csv.zip.partab']\n",
        "combined_zip = base_dir / 'forecastdemand_nsw.csv.zip'\n",
        "\n",
        "with open(combined_zip, 'wb') as outfile:\n",
        "    for part in parts:\n",
        "        with open(part, 'rb') as infile:\n",
        "            outfile.write(infile.read())\n",
        "\n",
        "# Read the csv file from the combined zip into a DataFrame\n",
        "with zipfile.ZipFile(combined_zip, 'r') as z:\n",
        "    with z.open('forecastdemand_nsw.csv') as f:\n",
        "        forecast_df = pd.read_csv(f)\n",
        "\n",
        "tempr_df = pd.read_csv(base_dir / 'temperature_nsw.csv')\n",
        "demand_df = pd.read_csv(base_dir / 'totaldemand_nsw.csv')\n"
      ]
    },
    {
      "cell_type": "code",
      "execution_count": null,
      "id": "c30545c5-5eff-4d1f-8c51-30d6076efeb3",
      "metadata": {
        "id": "c30545c5-5eff-4d1f-8c51-30d6076efeb3",
        "outputId": "7d7a33a9-ac54-424e-8890-1ca60e04a19e"
      },
      "outputs": [
        {
          "name": "stdout",
          "output_type": "stream",
          "text": [
            "    LOCATION       DATETIME  TEMPERATURE\n",
            "0  Bankstown  1/1/2010 0:00         23.1\n",
            "1  Bankstown  1/1/2010 0:01         23.1\n",
            "2  Bankstown  1/1/2010 0:30         22.9\n",
            "3  Bankstown  1/1/2010 0:50         22.7\n",
            "4  Bankstown  1/1/2010 1:00         22.6\n",
            "5  Bankstown  1/1/2010 1:30         22.5\n",
            "6  Bankstown  1/1/2010 2:00         22.5\n",
            "7  Bankstown  1/1/2010 2:30         22.4\n",
            "8  Bankstown  1/1/2010 3:00         22.3\n",
            "9  Bankstown  1/1/2010 3:30         22.3\n"
          ]
        }
      ],
      "source": [
        "print(tempr_df.head(10))"
      ]
    },
    {
      "cell_type": "code",
      "execution_count": null,
      "id": "0de54837-e8bc-4821-bcb9-b2ce82fb4999",
      "metadata": {
        "id": "0de54837-e8bc-4821-bcb9-b2ce82fb4999",
        "outputId": "abbe13f5-fd5a-489a-c1b3-0c517997132e"
      },
      "outputs": [
        {
          "name": "stdout",
          "output_type": "stream",
          "text": [
            "        DATETIME  TOTALDEMAND REGIONID\n",
            "0  1/1/2010 0:00      8038.00     NSW1\n",
            "1  1/1/2010 0:30      7809.31     NSW1\n",
            "2  1/1/2010 1:00      7483.69     NSW1\n",
            "3  1/1/2010 1:30      7117.23     NSW1\n",
            "4  1/1/2010 2:00      6812.03     NSW1\n",
            "5  1/1/2010 2:30      6544.33     NSW1\n",
            "6  1/1/2010 3:00      6377.32     NSW1\n",
            "7  1/1/2010 3:30      6282.85     NSW1\n",
            "8  1/1/2010 4:00      6211.49     NSW1\n",
            "9  1/1/2010 4:30      6248.31     NSW1\n"
          ]
        }
      ],
      "source": [
        "print(demand_df.head(10))"
      ]
    },
    {
      "cell_type": "code",
      "execution_count": null,
      "id": "d291d2d4-815e-4350-9988-4090d1508c98",
      "metadata": {
        "id": "d291d2d4-815e-4350-9988-4090d1508c98",
        "outputId": "518070cd-b41b-4004-cef8-f95bf8f3f993"
      },
      "outputs": [
        {
          "name": "stdout",
          "output_type": "stream",
          "text": [
            "   PREDISPATCHSEQNO REGIONID  PERIODID  FORECASTDEMAND          LASTCHANGED             DATETIME\n",
            "0        2009123018     NSW1        71         7832.04  2009-12-30 12:31:49  2010-01-01 00:00:00\n",
            "1        2009123019     NSW1        70         7832.04  2009-12-30 13:01:43  2010-01-01 00:00:00\n",
            "2        2009123020     NSW1        69         7832.03  2009-12-30 13:31:36  2010-01-01 00:00:00\n",
            "3        2009123021     NSW1        68         7832.03  2009-12-30 14:01:44  2010-01-01 00:00:00\n",
            "4        2009123022     NSW1        67         7830.96  2009-12-30 14:31:35  2010-01-01 00:00:00\n",
            "5        2009123023     NSW1        66         7842.03  2009-12-30 15:01:42  2010-01-01 00:00:00\n",
            "6        2009123024     NSW1        65         7841.08  2009-12-30 15:31:50  2010-01-01 00:00:00\n",
            "7        2009123025     NSW1        64         7842.07  2009-12-30 16:01:43  2010-01-01 00:00:00\n",
            "8        2009123026     NSW1        63         7841.90  2009-12-30 16:31:34  2010-01-01 00:00:00\n",
            "9        2009123027     NSW1        62         7841.90  2009-12-30 17:01:39  2010-01-01 00:00:00\n"
          ]
        }
      ],
      "source": [
        "print(forecast_df.head(10))"
      ]
    }
  ],
  "metadata": {
    "kernelspec": {
      "display_name": "Python [conda env:base] *",
      "language": "python",
      "name": "conda-base-py"
    },
    "language_info": {
      "codemirror_mode": {
        "name": "ipython",
        "version": 3
      },
      "file_extension": ".py",
      "mimetype": "text/x-python",
      "name": "python",
      "nbconvert_exporter": "python",
      "pygments_lexer": "ipython3",
      "version": "3.12.7"
    },
    "colab": {
      "provenance": []
    }
  },
  "nbformat": 4,
  "nbformat_minor": 5
}